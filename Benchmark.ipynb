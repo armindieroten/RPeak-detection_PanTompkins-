{
 "cells": [
  {
   "cell_type": "code",
   "execution_count": 1,
   "metadata": {},
   "outputs": [],
   "source": [
    "import numpy as np\n",
    "import matplotlib.pyplot as plt\n",
    "import wfdb\n",
    "import os \n",
    "from pathlib import Path\n",
    "import subprocess\n",
    "from sleepecg import compare_heartbeats\n",
    "\n",
    "DatasetPath = \"C:/Users/ARTAPC/Desktop/EcgSamples\"  # Path to the MIT-BIH directory.\n",
    "\n",
    "\n",
    "EpisodeNames = []\n",
    "\n",
    "for file in os.listdir(DatasetPath):\n",
    "    if file.endswith(\".dat\"):\n",
    "        \n",
    "        EpisodeNames.append( Path((file)).stem )"
   ]
  },
  {
   "cell_type": "code",
   "execution_count": 2,
   "metadata": {},
   "outputs": [],
   "source": [
    "signal = []\n",
    "actualpeaks = []\n",
    "\n",
    "os.chdir(DatasetPath)\n",
    "\n",
    "for ep in EpisodeNames:\n",
    "\n",
    "    signals, fields= wfdb.rdsamp(ep)\n",
    "    signal.append(signals[:,0])\n",
    "    Annotations= wfdb.rdann(ep,'atr', return_label_elements=['symbol'])\n",
    "    PeakSamples=Annotations.sample\n",
    "    PeakSymbols=Annotations.symbol\n",
    "    RealPeaksIndex=[]\n",
    "    for index, sym in enumerate(PeakSymbols):\n",
    "        if sym == 'N' or sym == 'V' or sym=='A':\n",
    "            RealPeaksIndex=np.append(RealPeaksIndex, index)\n",
    "    RealPeaksIndex= RealPeaksIndex.astype(int)\n",
    "    RealPeaks=PeakSamples[RealPeaksIndex]\n",
    "\n",
    "    actualpeaks.append(np.array([peak for peak in RealPeaks if peak < 500000]) )  "
   ]
  },
  {
   "cell_type": "code",
   "execution_count": 3,
   "metadata": {},
   "outputs": [],
   "source": [
    "Exefile_Path = \"C:/Users/ARTAPC/Desktop/test_alg/src\"   # Path to where PanTompkins.exe is located.\n",
    "\n",
    "os.chdir(Exefile_Path)\n",
    "\n",
    "output=[]\n",
    "\n",
    "for ep in signal:\n",
    "        \n",
    "    with open('ecg.txt', 'w') as f:\n",
    "        for line in ep:\n",
    "            f.write(f\"{line}\\n\")\n",
    "\n",
    "\n",
    "    open(\"output.txt\", \"w\").close() # Clears output.txt after each Episode.\n",
    "\n",
    "    subprocess.call(r\"PanTompkins.exe\", stdin=None, stdout=None, stderr=None, shell=False) # Calls PanTompkins.exe to write in output.txt\n",
    "\n",
    "    with open('output.txt') as file:\n",
    "        lines = np.array([line.rstrip() for line in file]) \n",
    "    \n",
    "    output.append(np.array([int (l) for l in lines])) "
   ]
  },
  {
   "cell_type": "code",
   "execution_count": 4,
   "metadata": {},
   "outputs": [],
   "source": [
    "TruePositiveRate_recall=[]\n",
    "PositivePredictiveValue_precision = []\n",
    "\n",
    "for i,ep in enumerate(output):\n",
    "\n",
    "    res = compare_heartbeats(ep,actualpeaks[i],max_distance=7)\n",
    "\n",
    "    TruePositiveRate_recall.append(len(res.TP)/(len(res.TP)+len(res.FN)))    # Recall \n",
    "    PositivePredictiveValue_precision.append(len(res.TP)/(len(res.TP)+len(res.FP)))  # Accuracy\n"
   ]
  },
  {
   "cell_type": "code",
   "execution_count": 5,
   "metadata": {},
   "outputs": [
    {
     "data": {
      "text/plain": [
       "[1.0,\n",
       " 0.9951657458563536,\n",
       " 0.0590318772136954,\n",
       " 1.0,\n",
       " 0.0777479892761394,\n",
       " 0.9714428857715431,\n",
       " 0.9933598937583001,\n",
       " 0.014594594594594595,\n",
       " 0.6075709779179811,\n",
       " 0.011819116135662899,\n",
       " 0.0006195786864931846,\n",
       " 0.9989816700610998,\n",
       " 0.9955914768552535,\n",
       " 0.9795769511305616,\n",
       " 1.0,\n",
       " 0.9978070175438597,\n",
       " 0.9860627177700348,\n",
       " 0.045402298850574715,\n",
       " 0.7901639344262295,\n",
       " 0.9956647398843931,\n",
       " 1.0,\n",
       " 1.0,\n",
       " 0.030755711775043937,\n",
       " 0.9852652259332023,\n",
       " 0.9948377581120944,\n",
       " 0.9910034602076124,\n",
       " 0.9441758241758241,\n",
       " 0.9922854387656702,\n",
       " 0.025094102885821833,\n",
       " 0.5962321792260692,\n",
       " 1.0,\n",
       " 0.9702170620898536,\n",
       " 0.28277153558052437,\n",
       " 0.8526231477773328,\n",
       " 0.10683012259194395,\n",
       " 0.9992269037495168,\n",
       " 0.21631205673758866,\n",
       " 0.995627732667083,\n",
       " 1.0,\n",
       " 0.8687782805429864,\n",
       " 0.7706971677559913,\n",
       " 0.9707513867876955,\n",
       " 0.9605263157894737,\n",
       " 1.0,\n",
       " 0.26155187445510025,\n",
       " 0.8057259713701431,\n",
       " 0.9134697357203752,\n",
       " 0.9764039641340255]"
      ]
     },
     "execution_count": 5,
     "metadata": {},
     "output_type": "execute_result"
    }
   ],
   "source": [
    "PositivePredictiveValue_precision"
   ]
  },
  {
   "cell_type": "code",
   "execution_count": 6,
   "metadata": {},
   "outputs": [
    {
     "data": {
      "text/plain": [
       "<BarContainer object of 48 artists>"
      ]
     },
     "execution_count": 6,
     "metadata": {},
     "output_type": "execute_result"
    },
    {
     "data": {
      "image/png": "[encoded data removed]",
      "text/plain": [
       "<Figure size 640x480 with 1 Axes>"
      ]
     },
     "metadata": {},
     "output_type": "display_data"
    }
   ],
   "source": [
    "plt.bar(range(len(PositivePredictiveValue_precision)),PositivePredictiveValue_precision)"
   ]
  }
 ],
 "metadata": {
  "kernelspec": {
   "display_name": "ecg",
   "language": "python",
   "name": "python3"
  },
  "language_info": {
   "codemirror_mode": {
    "name": "ipython",
    "version": 3
   },
   "file_extension": ".py",
   "mimetype": "text/x-python",
   "name": "python",
   "nbconvert_exporter": "python",
   "pygments_lexer": "ipython3",
   "version": "3.8.19"
  }
 },
 "nbformat": 4,
 "nbformat_minor": 2
}
