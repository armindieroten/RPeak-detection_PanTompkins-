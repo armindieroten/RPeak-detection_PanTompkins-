{
 "cells": [
  {
   "cell_type": "code",
   "execution_count": null,
   "metadata": {},
   "outputs": [],
   "source": [
    "from ctypes import *\n",
    "\n",
    "\n",
    "so_file = \"C:/Users/ARTAPC/Desktop/test_c/test_c/test_alg/PanTompkins.so\"\n",
    "\n",
    "my_functions = CDLL(so_file)\n",
    "\n",
    "print(type(my_functions))\n",
    "\n",
    "\n",
    "print(my_functions(10))"
   ]
  },
  {
   "cell_type": "code",
   "execution_count": 7,
   "metadata": {},
   "outputs": [],
   "source": [
    "import pathlib\n",
    "\n",
    "\n",
    "libname = \"C:/Users/ARTAPC/Desktop/test_c/test_c/test_alg/PanTompkins.so\"\n",
    "c_lib = ctypes.CDLL(libname)"
   ]
  },
  {
   "cell_type": "code",
   "execution_count": 19,
   "metadata": {},
   "outputs": [
    {
     "data": {
      "text/plain": [
       "0"
      ]
     },
     "execution_count": 19,
     "metadata": {},
     "output_type": "execute_result"
    }
   ],
   "source": [
    "c_lib.PT_StateMachine(6831)"
   ]
  }
 ],
 "metadata": {
  "kernelspec": {
   "display_name": "py38",
   "language": "python",
   "name": "python3"
  },
  "language_info": {
   "codemirror_mode": {
    "name": "ipython",
    "version": 3
   },
   "file_extension": ".py",
   "mimetype": "text/x-python",
   "name": "python",
   "nbconvert_exporter": "python",
   "pygments_lexer": "ipython3",
   "version": "3.8.19"
  }
 },
 "nbformat": 4,
 "nbformat_minor": 2
}
